{
 "cells": [
  {
   "cell_type": "code",
   "execution_count": 1,
   "metadata": {},
   "outputs": [],
   "source": [
    "import wrapomatic as wrp\n",
    "import xio\n",
    "\n",
    "import json\n",
    "#import subprocess"
   ]
  },
  {
   "cell_type": "code",
   "execution_count": 2,
   "metadata": {},
   "outputs": [
    {
     "name": "stdout",
     "output_type": "stream",
     "text": [
      "analysis_type = 1\n",
      "analysis_subtype = 7\n",
      "genetic_code = 1\n",
      "data_file = /Users/dten0001/Google Drive/automata/examples/flub_NA_11.fas\n",
      "use_tree = y\n",
      "branch_test_set = 2\n",
      "relax_analysis_type = 2\n",
      "output_suffix = _results.out\n"
     ]
    }
   ],
   "source": [
    "hx = wrp.HyphyRelax()\n",
    "path0=\"/Users/dten0001/Google Drive/automata/examples/\"\n",
    "hx.data_file=path0+\"flub_NA_11.fas\"\n",
    "hx.show_me()"
   ]
  },
  {
   "cell_type": "code",
   "execution_count": 3,
   "metadata": {
    "scrolled": true
   },
   "outputs": [
    {
     "name": "stdout",
     "output_type": "stream",
     "text": [
      "Running HYPHYMP:RELAX\n",
      "Genetic code = universal code\n",
      "Input file = /Users/dten0001/Google Drive/automata/examples/flub_NA_11.fas\n",
      "Branches used as _test_ set: Branches labelled 'test'\n",
      "RELAX analysis type: Run only the RELAX test (2 models)\n",
      "STDOUT output file: /Users/dten0001/Google Drive/automata/examples/flub_NA_11.fas_results.out\n",
      "Done in 289.18s\n"
     ]
    }
   ],
   "source": [
    "hx.run()"
   ]
  },
  {
   "cell_type": "code",
   "execution_count": null,
   "metadata": {
    "collapsed": true
   },
   "outputs": [],
   "source": []
  }
 ],
 "metadata": {
  "kernelspec": {
   "display_name": "Python 3",
   "language": "python",
   "name": "python3"
  },
  "language_info": {
   "codemirror_mode": {
    "name": "ipython",
    "version": 3
   },
   "file_extension": ".py",
   "mimetype": "text/x-python",
   "name": "python",
   "nbconvert_exporter": "python",
   "pygments_lexer": "ipython3",
   "version": "3.6.3"
  }
 },
 "nbformat": 4,
 "nbformat_minor": 2
}
