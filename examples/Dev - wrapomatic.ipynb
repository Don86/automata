{
 "cells": [
  {
   "cell_type": "code",
   "execution_count": 1,
   "metadata": {
    "collapsed": true
   },
   "outputs": [],
   "source": [
    "import wrapomatic as wrp\n",
    "import xio\n",
    "\n",
    "import json\n",
    "from pprint import pprint\n",
    "path0=\"/Users/dten0001/Google Drive/automata/examples/\"\n",
    "#import subprocess"
   ]
  },
  {
   "cell_type": "code",
   "execution_count": null,
   "metadata": {},
   "outputs": [],
   "source": [
    "hx = wrp.HyphyRelax()\n",
    "\n",
    "hx.data_file=path0+\"flub_NA_11.fas\"\n",
    "hx.show_me()"
   ]
  },
  {
   "cell_type": "code",
   "execution_count": null,
   "metadata": {
    "scrolled": true
   },
   "outputs": [],
   "source": [
    "hx.run()"
   ]
  },
  {
   "cell_type": "code",
   "execution_count": 2,
   "metadata": {},
   "outputs": [
    {
     "name": "stdout",
     "output_type": "stream",
     "text": [
      "GLOBAL dNdS VALUES\n",
      "--------------------\n",
      "AIC-c = 1081.153806333767\n",
      "LogL = -540.5769031668833\n",
      "dNdS ratio for *Reference* = 0.2095108006025978\n",
      "dNdS ratio for *Test* = 0.8783516755412378\n",
      "\n",
      "M0: k = 1\n",
      "--------------------\n",
      "REFERENCE & TEST BRANCHES\n",
      "AIC-c = 1163.203562887629\n",
      "LogL = -542.175409932746\n",
      "Class 0: omega = 0.29611, proportion = 68.53079%\n",
      "Class 1: omega = 0.55061, proportion = 31.46921%\n",
      "Class 2: omega = 1.00040, proportion = 0.00000%\n",
      "\n",
      "M1: k != 1\n",
      "--------------------\n",
      "REFERENCE & TEST BRANCHES\n",
      "AIC-c = 1162.7080436529\n",
      "LogL = -540.8511316530396\n",
      "Class 0: omega = 0.00000, proportion = 35.18770%\n",
      "Class 1: omega = 0.00000, proportion = 46.38463%\n",
      "Class 2: omega = 1.27981, proportion = 18.42766%\n",
      "\n",
      "Class 0: omega = 0.00000, proportion = 35.18770%\n",
      "Class 1: omega = 0.00000, proportion = 46.38463%\n",
      "Class 2: omega = 4.92876, proportion = 18.42766%\n",
      "\n",
      "LRT RESULTS\n",
      "--------------------\n",
      "LRT = 2.64856\n",
      "p-value = 0.10364\n",
      "k = 6.46549\n"
     ]
    }
   ],
   "source": [
    "wrp.parse_relax_json(path0+\"flub_NA_11.fas.RELAX.json\")"
   ]
  },
  {
   "cell_type": "code",
   "execution_count": null,
   "metadata": {
    "collapsed": true
   },
   "outputs": [],
   "source": []
  }
 ],
 "metadata": {
  "kernelspec": {
   "display_name": "Python 3",
   "language": "python",
   "name": "python3"
  },
  "language_info": {
   "codemirror_mode": {
    "name": "ipython",
    "version": 3
   },
   "file_extension": ".py",
   "mimetype": "text/x-python",
   "name": "python",
   "nbconvert_exporter": "python",
   "pygments_lexer": "ipython3",
   "version": "3.6.3"
  }
 },
 "nbformat": 4,
 "nbformat_minor": 2
}
